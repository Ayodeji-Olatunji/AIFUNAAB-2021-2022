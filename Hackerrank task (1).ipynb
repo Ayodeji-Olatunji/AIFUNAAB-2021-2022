{
 "cells": [
  {
   "cell_type": "code",
   "execution_count": 4,
   "metadata": {},
   "outputs": [
    {
     "name": "stdout",
     "output_type": "stream",
     "text": [
      "Enter an integer between 1 and 100: \n",
      "3\n",
      "Weird\n"
     ]
    }
   ],
   "source": [
    "#First Task\n",
    "#program to check if a given integer is odd or even\n",
    "#Enter an integer between 1 and 100\n",
    "print(\"Enter an integer between 1 and 100: \")\n",
    "n = input()\n",
    "n = int(n)\n",
    "\n",
    "# raise Exception if n is greater than 100\n",
    "if n > 100:\n",
    "    raise Exception(\"Number Out of Range\")\n",
    "\n",
    "#conditions to be checked\n",
    "if (n % 2 != 0):\n",
    "    print(\"Weird\")\n",
    "elif(n % 2 == 0 and n in range(2,6)):\n",
    "    print(\"Not Weird\")\n",
    "elif(n % 2 == 0 and n in range(6,21)):\n",
    "     print(\"Weird\")\n",
    "elif(n % 2 == 0 and n > 20):\n",
    "    print(\"Not Weird\")\n",
    "    \n",
    "\n",
    "        "
   ]
  },
  {
   "cell_type": "code",
   "execution_count": 1,
   "metadata": {},
   "outputs": [
    {
     "name": "stdout",
     "output_type": "stream",
     "text": [
      "Program to check if a year is a leap year or not, Outputs 'True' if year is a leap year and 'False' if it is not\n",
      "Enter a year:2012\n",
      "True\n"
     ]
    }
   ],
   "source": [
    "#Second Task\n",
    "#Program to create a function that checks for a leap year\n",
    "\n",
    "#define a function called is_leap to check if a year is a leap year or not\n",
    "def is_leap(year):\n",
    "    result=\"\"\n",
    "    if year % 4 == 0 or (year % 100 != 0 and year % 400 == 0):\n",
    "        result = True\n",
    "    else:\n",
    "        result = False\n",
    "    return result\n",
    "\n",
    "print(\"Program to check if a year is a leap year or not, Outputs 'True' if year is a leap year and 'False' if it is not\")\n",
    "#User input         \n",
    "year = int(input(\"Enter a year:\"))\n",
    "\n",
    "#Output of the function\n",
    "print(is_leap(year))\n",
    "    \n"
   ]
  },
  {
   "cell_type": "code",
   "execution_count": null,
   "metadata": {},
   "outputs": [],
   "source": [
    "#Third Task\n",
    "#Program to print the square of all non-negative integers less than an integer n\n",
    "\n",
    "#Enter a number\n",
    "n = int(input(\"Enter an integer between 1 and 20:\"))\n",
    "\n",
    "i = 0\n",
    "\n",
    "#Raise and exception if n is greater than 20\n",
    "if n > 20:\n",
    "    raise Exception(\"Integer Out of Range\")\n",
    "\n",
    "#while loop to print the squares of non-negative values less than n\n",
    "while i < n:\n",
    "    for i in range(n):\n",
    "        print(i**2)\n",
    "    i = i + 1\n"
   ]
  },
  {
   "cell_type": "code",
   "execution_count": null,
   "metadata": {},
   "outputs": [],
   "source": []
  }
 ],
 "metadata": {
  "kernelspec": {
   "display_name": "Python 3",
   "language": "python",
   "name": "python3"
  },
  "language_info": {
   "codemirror_mode": {
    "name": "ipython",
    "version": 3
   },
   "file_extension": ".py",
   "mimetype": "text/x-python",
   "name": "python",
   "nbconvert_exporter": "python",
   "pygments_lexer": "ipython3",
   "version": "3.8.8"
  }
 },
 "nbformat": 4,
 "nbformat_minor": 2
}
